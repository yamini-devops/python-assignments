{
 "cells": [
  {
   "cell_type": "markdown",
   "metadata": {},
   "source": [
    "# assignment2"
   ]
  },
  {
   "cell_type": "code",
   "execution_count": 2,
   "metadata": {},
   "outputs": [
    {
     "name": "stdout",
     "output_type": "stream",
     "text": [
      " please enter the number 1000\n",
      " safe to land \n"
     ]
    }
   ],
   "source": [
    "a = int(input(\" please enter the number \"))\n",
    "\n",
    "if a > 5000:\n",
    "    print (\" go around and try again \")\n",
    "elif a > 1000 and a < 5000:\n",
    "    print (\" Bring down to 1000 \")\n",
    "else:\n",
    "    print (\" safe to land \")"
   ]
  },
  {
   "cell_type": "code",
   "execution_count": 3,
   "metadata": {},
   "outputs": [
    {
     "name": "stdout",
     "output_type": "stream",
     "text": [
      " please enter the number 4000\n",
      " Bring down to 1000 \n"
     ]
    }
   ],
   "source": [
    "a = int(input(\" please enter the number \"))\n",
    "\n",
    "if a > 5000:\n",
    "    print (\" go around and try again \")\n",
    "elif a > 1000 and a < 5000:\n",
    "    print (\" Bring down to 1000 \")\n",
    "else:\n",
    "    print (\" safe to land \")"
   ]
  },
  {
   "cell_type": "code",
   "execution_count": 4,
   "metadata": {},
   "outputs": [
    {
     "name": "stdout",
     "output_type": "stream",
     "text": [
      " please enter the number 6000\n",
      " go around and try again \n"
     ]
    }
   ],
   "source": [
    "a = int(input(\" please enter the number \"))\n",
    "\n",
    "if a > 5000:\n",
    "    print (\" go around and try again \")\n",
    "elif a > 1000 and a < 5000:\n",
    "    print (\" Bring down to 1000 \")\n",
    "else:\n",
    "    print (\" safe to land \")"
   ]
  }
 ],
 "metadata": {
  "kernelspec": {
   "display_name": "Python 3",
   "language": "python",
   "name": "python3"
  },
  "language_info": {
   "codemirror_mode": {
    "name": "ipython",
    "version": 3
   },
   "file_extension": ".py",
   "mimetype": "text/x-python",
   "name": "python",
   "nbconvert_exporter": "python",
   "pygments_lexer": "ipython3",
   "version": "3.8.5"
  }
 },
 "nbformat": 4,
 "nbformat_minor": 4
}
